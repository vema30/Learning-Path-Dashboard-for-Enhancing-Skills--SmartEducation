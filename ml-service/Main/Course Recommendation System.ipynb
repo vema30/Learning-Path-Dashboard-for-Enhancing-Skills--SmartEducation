{
 "cells": [
  {
   "cell_type": "markdown",
   "metadata": {},
   "source": [
    "<div class=\"text_cell_render border-box-sizing rendered_html\">\n",
    "<h4>Course Recommendation System using Udemy Dataset<a class=\"anchor-link\" href=\"#Course-Recommendation-System-using-Udemy-Dataset\">¶</a>\n",
    "</h4>\n",
    "<h4>Algo<a class=\"anchor-link\" href=\"#Algo\">¶</a>\n",
    "</h4>\n",
    "<ul>\n",
    "<li>Cosine Similarity</li>\n",
    "<li>Linear Similarity</li>\n",
    "</ul>\n",
    "<h4>Workflow<a class=\"anchor-link\" href=\"#Workflow\">¶</a>\n",
    "</h4>\n",
    "<ul>\n",
    "<li>Dataset</li>\n",
    "<li>Vectorized our dataset</li>\n",
    "<li>Cosine Similarity Matrix</li>\n",
    "<li>ID,Score</li>\n",
    "<li>Recommend</li>\n",
    "</ul>\n",
    "\n",
    "</div>"
   ]
  },
  {
   "cell_type": "code",
   "execution_count": null,
   "metadata": {},
   "outputs": [
    {
     "ename": "",
     "evalue": "",
     "output_type": "error",
     "traceback": [
      "\u001b[1;31mRunning cells with 'Python 3.13.2' requires the ipykernel package.\n",
      "\u001b[1;31mRun the following command to install 'ipykernel' into the Python environment. \n",
      "\u001b[1;31mCommand: '/opt/homebrew/bin/python3 -m pip install ipykernel -U --user --force-reinstall'"
     ]
    }
   ],
   "source": [
    "pip install pandas\n"
   ]
  },
  {
   "cell_type": "code",
   "execution_count": null,
   "metadata": {},
   "outputs": [],
   "source": [
    "pip install neattext"
   ]
  },
  {
   "cell_type": "code",
   "execution_count": null,
   "metadata": {},
   "outputs": [
    {
     "ename": "",
     "evalue": "",
     "output_type": "error",
     "traceback": [
      "\u001b[1;31mRunning cells with 'Python 3.13.2' requires the ipykernel package.\n",
      "\u001b[1;31mRun the following command to install 'ipykernel' into the Python environment. \n",
      "\u001b[1;31mCommand: '/opt/homebrew/bin/python3 -m pip install ipykernel -U --user --force-reinstall'"
     ]
    }
   ],
   "source": [
    "pip install seaborn"
   ]
  },
  {
   "cell_type": "code",
   "execution_count": null,
   "metadata": {},
   "outputs": [],
   "source": [
    "pip install scikit-learn"
   ]
  },
  {
   "cell_type": "code",
   "execution_count": null,
   "metadata": {},
   "outputs": [],
   "source": [
    "import pandas as pd\n",
    "import numpy as np\n",
    "import neattext.functions as nfx\n",
    "import seaborn as sn\n",
    "\n",
    "\n",
    "\n",
    "\n",
    "from sklearn.feature_extraction.text import TfidfVectorizer,CountVectorizer\n",
    "from sklearn.metrics.pairwise import cosine_similarity,linear_kernel"
   ]
  },
  {
   "cell_type": "code",
   "execution_count": null,
   "metadata": {},
   "outputs": [],
   "source": [
    "df.describe()"
   ]
  },
  {
   "cell_type": "code",
   "execution_count": null,
   "metadata": {},
   "outputs": [],
   "source": [
    "df = pd.read_csv('/Users/vema/Desktop/Build-a-Udemy-Course-Recommendation-System-Machine-Learning-AI-Project-main 2/udemy_course_data.csv')\n",
    "df.head()"
   ]
  },
  {
   "cell_type": "code",
   "execution_count": null,
   "metadata": {},
   "outputs": [],
   "source": [
    "# list all the methods present in the neattext function\n",
    "\n",
    "dir(nfx)"
   ]
  },
  {
   "cell_type": "code",
   "execution_count": null,
   "metadata": {},
   "outputs": [],
   "source": []
  },
  {
   "cell_type": "code",
   "execution_count": null,
   "metadata": {},
   "outputs": [],
   "source": []
  },
  {
   "cell_type": "code",
   "execution_count": null,
   "metadata": {},
   "outputs": [],
   "source": [
    "df['course_title'].iloc[1:5]"
   ]
  },
  {
   "cell_type": "code",
   "execution_count": null,
   "metadata": {},
   "outputs": [],
   "source": [
    "# generating clean text by removing the stopwords and special characters\n",
    "\n",
    "\n",
    "df['Clean_title'] = df['course_title'].apply(nfx.remove_stopwords)\n",
    "\n",
    "df['Clean_title'] = df['Clean_title'].apply(nfx.remove_special_characters)\n",
    "\n",
    "df['Clean_title'].iloc[1:5]"
   ]
  },
  {
   "cell_type": "code",
   "execution_count": null,
   "metadata": {},
   "outputs": [],
   "source": [
    "# vectorizing the course_title\n",
    "\n",
    "countvect = CountVectorizer()\n",
    "\n",
    "cv_mat = countvect.fit_transform(df['Clean_title'])\n",
    "\n",
    "cv_mat"
   ]
  },
  {
   "cell_type": "code",
   "execution_count": null,
   "metadata": {},
   "outputs": [],
   "source": [
    "cv_mat.todense()"
   ]
  },
  {
   "cell_type": "code",
   "execution_count": null,
   "metadata": {},
   "outputs": [],
   "source": [
    "df_cv_words = pd.DataFrame(cv_mat.todense(), columns=countvect.get_feature_names_out())\n",
    "\n",
    "df_cv_words"
   ]
  },
  {
   "cell_type": "code",
   "execution_count": null,
   "metadata": {},
   "outputs": [],
   "source": [
    "# cosine similarity matrix\n",
    "\n",
    "cosine_sim_mat = cosine_similarity(cv_mat)\n",
    "\n",
    "cosine_sim_mat"
   ]
  },
  {
   "cell_type": "code",
   "execution_count": null,
   "metadata": {},
   "outputs": [],
   "source": [
    "# drop duplicates \n",
    "\n",
    "course_index = pd.Series(df.index,index = df['course_title']).drop_duplicates()"
   ]
  },
  {
   "cell_type": "code",
   "execution_count": null,
   "metadata": {
    "collapsed": true
   },
   "outputs": [],
   "source": [
    "course_index"
   ]
  },
  {
   "cell_type": "raw",
   "metadata": {},
   "source": [
    "course_dict = dict(course_index)\n",
    "\n",
    "\n",
    "course_keys = list(course_dict.keys())\n",
    "\n",
    "touse = {}\n",
    "counter = 0\n",
    "keyword = 'Java'\n",
    "for key,value in course_dict.items():\n",
    "    if keyword in key:\n",
    "        touse[counter] = key\n",
    "        \n",
    "    counter+=1\n",
    "    \n",
    "touse"
   ]
  },
  {
   "cell_type": "code",
   "execution_count": null,
   "metadata": {
    "collapsed": true
   },
   "outputs": [],
   "source": [
    "temp = df[df['course_title'].str.contains(\"you\")]\n",
    "temp.head()"
   ]
  },
  {
   "cell_type": "code",
   "execution_count": null,
   "metadata": {
    "collapsed": true
   },
   "outputs": [],
   "source": [
    "top6 = temp.sort_values(by = 'num_subscribers',ascending=False).head(6)\n",
    "\n",
    "top6"
   ]
  },
  {
   "cell_type": "code",
   "execution_count": null,
   "metadata": {},
   "outputs": [],
   "source": [
    "index = course_index['Beginner to Pro - Financial Analysis in Excel 2017']\n",
    "\n",
    "\n",
    "print(index)"
   ]
  },
  {
   "cell_type": "code",
   "execution_count": null,
   "metadata": {
    "collapsed": true
   },
   "outputs": [],
   "source": [
    "scores = list(enumerate(cosine_sim_mat[index]))\n",
    "scores"
   ]
  },
  {
   "cell_type": "code",
   "execution_count": null,
   "metadata": {
    "collapsed": true
   },
   "outputs": [],
   "source": [
    "sorted_score = sorted(scores,key = lambda x:x[1],reverse=True)\n",
    "sorted_score"
   ]
  },
  {
   "cell_type": "code",
   "execution_count": null,
   "metadata": {
    "collapsed": true
   },
   "outputs": [],
   "source": [
    "# so the sorted score list is a collection of tuples \n",
    "# which have the index and the value,so i will select the indices first\n",
    "\n",
    "sorted_indices = [i[0] for i in sorted_score[1:]]\n",
    "\n",
    "sorted_values = [i[1] for i in sorted_score[1:]]\n",
    "\n",
    "sorted_values"
   ]
  },
  {
   "cell_type": "code",
   "execution_count": null,
   "metadata": {
    "collapsed": true
   },
   "outputs": [],
   "source": [
    "recommended_result_df = df.iloc[sorted_indices]\n",
    "\n",
    "recommended_result_df"
   ]
  },
  {
   "cell_type": "code",
   "execution_count": null,
   "metadata": {
    "collapsed": true
   },
   "outputs": [],
   "source": [
    "recommended_result_df['Similarity_Score'] = np.array(sorted_values)\n",
    "\n",
    "recommended_result_df"
   ]
  },
  {
   "cell_type": "code",
   "execution_count": null,
   "metadata": {
    "collapsed": true
   },
   "outputs": [],
   "source": [
    "use_df = recommended_result_df[['Clean_title','Similarity_Score']]\n",
    "use_df\n",
    "                                "
   ]
  },
  {
   "cell_type": "code",
   "execution_count": null,
   "metadata": {
    "scrolled": true
   },
   "outputs": [],
   "source": [
    "def recommend_course(title,numrec = 10):\n",
    "    \n",
    "    course_index = pd.Series(\n",
    "        df.index, index=df['course_title']).drop_duplicates()\n",
    "\n",
    "    index = course_index[title]\n",
    "\n",
    "    scores = list(enumerate(cosine_sim_mat [index]))\n",
    "\n",
    "    sorted_scores = sorted(scores, key=lambda x: x[1], reverse=True)\n",
    "\n",
    "    selected_course_index = [i[0] for i in sorted_scores[1:]]\n",
    "\n",
    "    selected_course_score = [i[1] for i in sorted_scores[1:]]\n",
    "\n",
    "    rec_df = df.iloc[selected_course_index]\n",
    "\n",
    "    rec_df['Similarity_Score'] = selected_course_score\n",
    "\n",
    "    final_recommended_courses = rec_df[[\n",
    "        'course_title', 'Similarity_Score', 'url', 'price', 'num_subscribers']]\n",
    "\n",
    "    return final_recommended_courses.head(numrec)\n",
    "\n",
    "\n",
    "\n",
    "\n",
    "ans = recommend_course('Trading Options Basics',20)\n",
    "\n",
    "ans\n",
    "    "
   ]
  },
  {
   "cell_type": "code",
   "execution_count": null,
   "metadata": {},
   "outputs": [],
   "source": [
    "ans.shape"
   ]
  },
  {
   "cell_type": "code",
   "execution_count": null,
   "metadata": {},
   "outputs": [],
   "source": [
    "ans.columns"
   ]
  },
  {
   "cell_type": "code",
   "execution_count": null,
   "metadata": {
    "collapsed": true
   },
   "outputs": [],
   "source": [
    "df.head()"
   ]
  },
  {
   "cell_type": "code",
   "execution_count": null,
   "metadata": {},
   "outputs": [],
   "source": [
    "df.to_csv('UdemyCleanedTitle.csv',index = None)"
   ]
  },
  {
   "cell_type": "code",
   "execution_count": null,
   "metadata": {},
   "outputs": [],
   "source": []
  }
 ],
 "metadata": {
  "kernelspec": {
   "display_name": "Python 3",
   "language": "python",
   "name": "python3"
  },
  "language_info": {
   "codemirror_mode": {
    "name": "ipython",
    "version": 3
   },
   "file_extension": ".py",
   "mimetype": "text/x-python",
   "name": "python",
   "nbconvert_exporter": "python",
   "pygments_lexer": "ipython3",
   "version": "3.13.2"
  }
 },
 "nbformat": 4,
 "nbformat_minor": 4
}
